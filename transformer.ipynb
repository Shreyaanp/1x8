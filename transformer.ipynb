{
 "cells": [
  {
   "cell_type": "code",
   "execution_count": 3,
   "metadata": {},
   "outputs": [
    {
     "name": "stdout",
     "output_type": "stream",
     "text": [
      "Processing test/0134102118.pdf - Computer Organization and Architecture 10th - William Stallings.pdf...\n",
      "Processing test/Abraham Silberschatz-Operating System Concepts (9th,2012_12).pdf...\n",
      "Processing test/Higher Engineering Mathematics, Sixth Edition - Higher Engineering Mathematics.pdf...\n",
      "Processing test/Compilers - Principles Techniques and Tools by Alfred Aho - Monica Lam- Ravi Sethi- Jeffrey Ullman - Second Edition.pdf...\n",
      "Processing test/Kurose, James F._Ross, Keith W - Computer networking_ a top-down approach-Pearson (2017).pdf...\n",
      "Processing test/pdfcoffee.com_classic-data-structure-dsamanta-pdf-free.pdf...\n",
      "Processing test/fundamentalsof-computer-algorithms-by-ellis-horowitz.pdf...\n",
      "Processing test/Chapter 7 Relational Database Design - ch3.pdf...\n"
     ]
    }
   ],
   "source": [
    "import fitz  # PyMuPDF\n",
    "import os\n",
    "\n",
    "def remove_pages_and_convert_to_text(pdf_path, start_skip=10, end_skip=10):\n",
    "    pdf_document = fitz.open(pdf_path)\n",
    "    total_pages = len(pdf_document)\n",
    "    text = \"\"\n",
    "\n",
    "    for page_num in range(start_skip, total_pages - end_skip):\n",
    "        page = pdf_document.load_page(page_num)\n",
    "        text += page.get_text()\n",
    "\n",
    "    return text\n",
    "\n",
    "def process_pdfs_in_folder(folder_path, output_txt_path):\n",
    "    all_text = \"\"\n",
    "    \n",
    "    for filename in os.listdir(folder_path):\n",
    "        if filename.endswith('.pdf'):\n",
    "            pdf_path = os.path.join(folder_path, filename)\n",
    "            print(f\"Processing {pdf_path}...\")\n",
    "            text = remove_pages_and_convert_to_text(pdf_path)\n",
    "            all_text += text + \"\\n\"\n",
    "    \n",
    "    with open(output_txt_path, 'w', encoding='utf-8') as txt_file:\n",
    "        txt_file.write(all_text)\n",
    "\n",
    "# Example usage\n",
    "folder_path = 'test'  # Folder containing PDF files\n",
    "output_txt_path = 'combined_output_text.txt'\n",
    "process_pdfs_in_folder(folder_path, output_txt_path)\n"
   ]
  },
  {
   "cell_type": "code",
   "execution_count": 5,
   "metadata": {},
   "outputs": [
    {
     "name": "stdout",
     "output_type": "stream",
     "text": [
      "Processing URL 1/15: https://ocw.mit.edu/courses/6-0001-introduction-to-computer-science-and-programming-in-python-fall-2016/lecture-notes/index.htm\n",
      "Processing URL 2/15: https://ocw.mit.edu/courses/6-006-introduction-to-algorithms-fall-2011/lecture-notes/index.htm\n",
      "Processing URL 3/15: https://www.geeksforgeeks.org/fundamentals-of-algorithms/\n",
      "Processing URL 4/15: https://www.geeksforgeeks.org/data-structures/\n",
      "Processing URL 5/15: https://www.geeksforgeeks.org/computer-network-tutorials/\n",
      "Processing URL 6/15: https://www.geeksforgeeks.org/operating-systems/\n",
      "Processing URL 7/15: https://www.geeksforgeeks.org/database-management-systems/\n",
      "Processing URL 8/15: https://www.geeksforgeeks.org/theory-of-computation-automata-tutorials/\n",
      "Processing URL 9/15: https://pll.harvard.edu/course/cs50-introduction-computer-science\n",
      "Processing URL 10/15: https://www.khanacademy.org/computing/computer-science/algorithms\n",
      "Processing URL 11/15: https://www.khanacademy.org/computing/computer-science/cryptography\n",
      "Processing URL 12/15: https://www.khanacademy.org/computing/computer-science/information-theory\n",
      "Processing URL 13/15: https://www.khanacademy.org/computing/computer-programming\n",
      "Processing URL 14/15: https://www.freecodecamp.org/news/best-computer-science-courses/\n",
      "Processing URL 15/15: https://teachyourselfcs.com/\n"
     ]
    }
   ],
   "source": []
  }
 ],
 "metadata": {
  "kernelspec": {
   "display_name": ".venv",
   "language": "python",
   "name": "python3"
  },
  "language_info": {
   "codemirror_mode": {
    "name": "ipython",
    "version": 3
   },
   "file_extension": ".py",
   "mimetype": "text/x-python",
   "name": "python",
   "nbconvert_exporter": "python",
   "pygments_lexer": "ipython3",
   "version": "3.11.6"
  }
 },
 "nbformat": 4,
 "nbformat_minor": 2
}
